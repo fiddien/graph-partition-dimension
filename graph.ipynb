{
 "cells": [
  {
   "cell_type": "code",
   "execution_count": 4,
   "id": "similar-linux",
   "metadata": {},
   "outputs": [],
   "source": [
    "# import sys\n",
    "# import PyQt5 as Qt\n",
    "# import PyQt5.QtWidgets as Widget\n",
    "# from PyQt5.QtGui import QFont\n",
    "# from PyQt5.QtCore import Qt\n",
    "# import matplotlib.pyplot as plt\n",
    "# from matplotlib.backends.backend_qt5agg import FigureCanvasQTAgg as FigureCanvas\n",
    "import networkx as nx"
   ]
  },
  {
   "cell_type": "code",
   "execution_count": 134,
   "id": "identified-macedonia",
   "metadata": {},
   "outputs": [],
   "source": [
    "class Graph(nx.graph.Graph):\n",
    "    def __init__(self, graph_type, parameter):\n",
    "        graph_types = ['path', 'cycle', 'complete', 'complete_bipartite']\n",
    "        \n",
    "        if graph_type not in graph_types:\n",
    "            raise ValueError(\"Invalid graph type, select: 'path', 'cycle', 'complete', 'complete_bipartite'.\")\n",
    "        if type(parameter) != list:\n",
    "            raise ValueError(\"Second parameter should be a list\")\n",
    "            \n",
    "        self.graph_type = graph_type\n",
    "        self.init_type(parameter)\n",
    "        \n",
    "    def init_type(self, parameter):\n",
    "        self.graph = eval('nx.'+self.graph_type+'_graph(*parameter)')\n",
    "        print(self.graph)\n",
    "#         self.nodes = graph.nodes\n",
    "#         self.edges = graph.edges"
   ]
  },
  {
   "cell_type": "code",
   "execution_count": 136,
   "id": "sacred-enhancement",
   "metadata": {},
   "outputs": [
    {
     "name": "stdout",
     "output_type": "stream",
     "text": [
      "\n",
      "[(0, 1), (1, 2), (2, 3), (3, 4), (4, 5), (5, 6), (6, 7), (7, 8), (8, 9)]\n"
     ]
    },
    {
     "data": {
      "image/png": "[encoded data removed]",
      "text/plain": [
       "<Figure size 432x288 with 1 Axes>"
      ]
     },
     "metadata": {},
     "output_type": "display_data"
    }
   ],
   "source": [
    "g = Graph('path', [10])\n",
    "nx.draw(g.graph)\n",
    "print(g.graph.edges)"
   ]
  }
 ],
 "metadata": {
  "kernelspec": {
   "display_name": "Python 3",
   "language": "python",
   "name": "python3"
  },
  "language_info": {
   "codemirror_mode": {
    "name": "ipython",
    "version": 3
   },
   "file_extension": ".py",
   "mimetype": "text/x-python",
   "name": "python",
   "nbconvert_exporter": "python",
   "pygments_lexer": "ipython3",
   "version": "3.8.7"
  }
 },
 "nbformat": 4,
 "nbformat_minor": 5
}
